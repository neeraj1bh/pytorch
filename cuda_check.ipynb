{
 "cells": [
  {
   "cell_type": "code",
   "execution_count": 2,
   "id": "c29aa87b-353f-4385-a497-f8e97d2a3f94",
   "metadata": {},
   "outputs": [
    {
     "name": "stdout",
     "output_type": "stream",
     "text": [
      "using cuda device\n"
     ]
    }
   ],
   "source": [
    "import torch\n",
    "\n",
    "if torch.cuda.is_available():\n",
    "    device = torch.device(\"cuda\")\n",
    "else:\n",
    "    device = torch.device(\"cpu\")\n",
    "print(\"using\", device, \"device\")"
   ]
  },
  {
   "cell_type": "code",
   "execution_count": 3,
   "id": "05c07fe7-63c3-488b-a595-eb468bd74b05",
   "metadata": {},
   "outputs": [
    {
     "name": "stdout",
     "output_type": "stream",
     "text": [
      "************* CPU SPEED *******************\n",
      "23.279462814331055\n",
      "verify device: cpu\n",
      "************* GPU SPEED *******************\n",
      "6.717372417449951\n",
      "verify device: cuda:0\n",
      "************* GPU SPEED *******************\n",
      "3.8304078578948975\n",
      "verify device: cuda:0\n",
      "************* GPU SPEED *******************\n",
      "1.7104957103729248\n",
      "verify device: cuda:0\n"
     ]
    }
   ],
   "source": [
    "import time\n",
    "\n",
    "matrix_size = 32*512\n",
    "\n",
    "x = torch.randn(matrix_size, matrix_size)\n",
    "y = torch.randn(matrix_size, matrix_size)\n",
    "\n",
    "print(\"************* CPU SPEED *******************\")\n",
    "start = time.time()\n",
    "result = torch.matmul(x, y)\n",
    "print(time.time() - start)\n",
    "print(\"verify device:\", result.device)\n",
    "\n",
    "x_gpu = x.to(device)\n",
    "y_gpu = y.to(device)\n",
    "torch.cuda.synchronize()\n",
    "\n",
    "for i in range(3):\n",
    "    print(\"************* GPU SPEED *******************\")\n",
    "    start = time.time()\n",
    "    result_gpu = torch.matmul(x_gpu, y_gpu)\n",
    "    torch.cuda.synchronize()\n",
    "    print(time.time() - start)\n",
    "    print(\"verify device:\", result_gpu.device)\n"
   ]
  }
 ],
 "metadata": {
  "kernelspec": {
   "display_name": "Python 3 (ipykernel)",
   "language": "python",
   "name": "python3"
  },
  "language_info": {
   "codemirror_mode": {
    "name": "ipython",
    "version": 3
   },
   "file_extension": ".py",
   "mimetype": "text/x-python",
   "name": "python",
   "nbconvert_exporter": "python",
   "pygments_lexer": "ipython3",
   "version": "3.8.10"
  }
 },
 "nbformat": 4,
 "nbformat_minor": 5
}
